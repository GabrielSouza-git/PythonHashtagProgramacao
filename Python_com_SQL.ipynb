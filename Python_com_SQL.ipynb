{
  "nbformat": 4,
  "nbformat_minor": 0,
  "metadata": {
    "colab": {
      "name": "Python com SQL.ipynb",
      "provenance": [],
      "collapsed_sections": [],
      "authorship_tag": "ABX9TyOwbmZGGZd+1rA3DrgQkkPA",
      "include_colab_link": true
    },
    "kernelspec": {
      "name": "python3",
      "display_name": "Python 3"
    },
    "language_info": {
      "name": "python"
    }
  },
  "cells": [
    {
      "cell_type": "markdown",
      "metadata": {
        "id": "view-in-github",
        "colab_type": "text"
      },
      "source": [
        "<a href=\"https://colab.research.google.com/github/GabrielSouza-git/PythonHashtagProgramacao/blob/main/Python_com_SQL.ipynb\" target=\"_parent\"><img src=\"https://colab.research.google.com/assets/colab-badge.svg\" alt=\"Open In Colab\"/></a>"
      ]
    },
    {
      "cell_type": "code",
      "execution_count": 31,
      "metadata": {
        "id": "iA9dqD3tagkO"
      },
      "outputs": [],
      "source": [
        "#Biblioteca\n",
        "import sqlite3"
      ]
    },
    {
      "cell_type": "markdown",
      "source": [
        ""
      ],
      "metadata": {
        "id": "ZhhuprmvzFH4"
      }
    },
    {
      "cell_type": "code",
      "source": [
        "# Criar um banco de dados\n",
        "Conexao = sqlite3.connect('Banco_Dados')"
      ],
      "metadata": {
        "id": "-iRt32CkatK5"
      },
      "execution_count": 32,
      "outputs": []
    },
    {
      "cell_type": "code",
      "source": [
        "# Apontar para o banco\n",
        "Cursor = Conexao.cursor()\n"
      ],
      "metadata": {
        "id": "DkNXf6eTa5--"
      },
      "execution_count": 33,
      "outputs": []
    },
    {
      "cell_type": "markdown",
      "source": [
        "# 1. - CREATE TABLE\n",
        "\n",
        "**CREATE TABLE table_name (column1 datatype, column2 datatype, ...)**\n",
        "\n",
        "\n",
        "\n",
        "Os parâmetros de **coluna** especificam os nomes das colunas da tabela.\n",
        "O parâmetro **datatype** especifica o tipo de dados que a coluna pode conter (por exemplo, varchar, integer, date, etc.)\n"
      ],
      "metadata": {
        "id": "hQQXtKpQbSyd"
      }
    },
    {
      "cell_type": "code",
      "source": [
        "# Criando uma tabela\n",
        "Cursor.execute(\n",
        "    'CREATE TABLE Minha_Tabela (Data text, Nome text, Idade real)'\n",
        ")\n",
        "\n",
        "# Fazer um commit\n",
        "Conexao.commit()"
      ],
      "metadata": {
        "id": "dn_360_obu0k",
        "colab": {
          "base_uri": "https://localhost:8080/",
          "height": 235
        },
        "outputId": "40e7f2e2-1796-49c3-9772-15d4ee665853"
      },
      "execution_count": 34,
      "outputs": [
        {
          "output_type": "error",
          "ename": "OperationalError",
          "evalue": "ignored",
          "traceback": [
            "\u001b[0;31m---------------------------------------------------------------------------\u001b[0m",
            "\u001b[0;31mOperationalError\u001b[0m                          Traceback (most recent call last)",
            "\u001b[0;32m<ipython-input-34-f11e102f1c3d>\u001b[0m in \u001b[0;36m<module>\u001b[0;34m()\u001b[0m\n\u001b[1;32m      1\u001b[0m \u001b[0;31m# Criando uma tabela\u001b[0m\u001b[0;34m\u001b[0m\u001b[0;34m\u001b[0m\u001b[0;34m\u001b[0m\u001b[0m\n\u001b[1;32m      2\u001b[0m Cursor.execute(\n\u001b[0;32m----> 3\u001b[0;31m     \u001b[0;34m'CREATE TABLE Minha_Tabela (Data text, Nome text, Idade real)'\u001b[0m\u001b[0;34m\u001b[0m\u001b[0;34m\u001b[0m\u001b[0m\n\u001b[0m\u001b[1;32m      4\u001b[0m )\n\u001b[1;32m      5\u001b[0m \u001b[0;34m\u001b[0m\u001b[0m\n",
            "\u001b[0;31mOperationalError\u001b[0m: table Minha_Tabela already exists"
          ]
        }
      ]
    },
    {
      "cell_type": "markdown",
      "source": [
        "# 2. - INSERT INTO\n",
        "A INSERT INTO instrução é usada para inserir novos registros em uma tabela.\n",
        "\n",
        "\n",
        "1.   Especifique os nomes das colunas e os valores a serem inseridos:\n",
        "\n",
        "**INSERT INTO table_name (column1, column2, column3, ...)**\n",
        "\n",
        "\n",
        "\n"
      ],
      "metadata": {
        "id": "I2R4ZL92c-St"
      }
    },
    {
      "cell_type": "code",
      "source": [
        "# Inserindo valores\n",
        "Cursor.execute(' INSERT INTO Minha_Tabela VALUES (\"01/01/2021\", \"Gabriel\", \"23\") ')"
      ],
      "metadata": {
        "id": "0H9QHQUSdN5A"
      },
      "execution_count": null,
      "outputs": []
    },
    {
      "cell_type": "code",
      "source": [
        "Cursor.execute(' INSERT INTO Minha_Tabela VALUES (\"05/01/2021\", \"Toni\", \"26\") ')"
      ],
      "metadata": {
        "id": "Fgh9w-nkd9mv"
      },
      "execution_count": null,
      "outputs": []
    },
    {
      "cell_type": "code",
      "source": [
        "# Importar Numeros aleatorios\n",
        "import random\n",
        "import datetime\n"
      ],
      "metadata": {
        "id": "F1HeCQwxeCP3"
      },
      "execution_count": null,
      "outputs": []
    },
    {
      "cell_type": "code",
      "source": [
        "\n",
        "for loop in range(3):\n",
        "  # Gerando um numero aleatorio\n",
        "  numero = random.randint(10, 20)\n",
        "  troll = random.choice([\"Joao\", \"Marcos\",\"Ronaldo\",\"Rivaldo\"])\n",
        " \n",
        "\n",
        "  #Inserir informação na minha tabela\n",
        "  Cursor.execute(f' INSERT INTO Minha_Tabela VALUES (\"05/01/2021\", \"{troll}\", {numero})')"
      ],
      "metadata": {
        "id": "Rd52GfzGeG1V"
      },
      "execution_count": null,
      "outputs": []
    },
    {
      "cell_type": "code",
      "source": [
        "\n",
        " "
      ],
      "metadata": {
        "id": "xMrIy25juFa7"
      },
      "execution_count": null,
      "outputs": []
    },
    {
      "cell_type": "markdown",
      "source": [
        "# 3. - SELECT TABLE\n",
        "\n",
        "A SELECT instrução é usada para selecionar dados de um banco de dados.\n",
        "\n",
        "\n",
        "\n",
        "SELECT * FROM table_name (todas as colunas)\n",
        "\n",
        "\n",
        "\n",
        "**SELECT column1, column2, ... from table_name**"
      ],
      "metadata": {
        "id": "Xdej_ZBSffrn"
      }
    },
    {
      "cell_type": "code",
      "source": [
        "# Query de consulta - todas as colunas\n",
        "Consulta = Cursor.execute (' SELECT * FROM Minha_Tabela').fetchall()\n",
        "\n",
        "print(Consulta)"
      ],
      "metadata": {
        "id": "g56EqcE1fx3n"
      },
      "execution_count": null,
      "outputs": []
    },
    {
      "cell_type": "code",
      "source": [
        "# Query de consulta - colunas especificas\n",
        "Consulta = Cursor.execute (' SELECT Nome, Idade FROM Minha_Tabela').fetchall()\n",
        "\n",
        "#Loop\n",
        "for Linha in Consulta:\n",
        "  print (Linha)"
      ],
      "metadata": {
        "id": "ib_haRUjgWtt"
      },
      "execution_count": null,
      "outputs": []
    },
    {
      "cell_type": "markdown",
      "source": [
        "# 4. - WHERE\n",
        "\n",
        "A WHERE cláusula é usada para filtrar registros\n",
        "\n",
        "**SELECT column FROM table_name WHERE condition**;\n",
        "\n",
        "Operadores:\n",
        "\n",
        "\n",
        "1.   <> Diferente\n",
        "2.   BETWEEN Entre --- begin_expression AND end_expression\n",
        "3.   LIKE Procurar por padrão\n",
        "4.   IN Para especificar vários valores possíveis para uma coluna\n",
        "\n"
      ],
      "metadata": {
        "id": "6CfmDCAThWO0"
      }
    },
    {
      "cell_type": "code",
      "source": [
        "# Query usando o Igual \"=\"\n",
        "Consulta = Cursor.execute(\n",
        "    '''\n",
        "    SELECT * FROM Minha_Tabela\n",
        "    WHERE Nome = 'Mateus'    \n",
        "    '''\n",
        ").fetchall()\n",
        "\n",
        "for linha in Consulta:\n",
        "  print (linha)\n"
      ],
      "metadata": {
        "id": "nNWZ8NGIhhwv"
      },
      "execution_count": null,
      "outputs": []
    },
    {
      "cell_type": "code",
      "source": [
        "# Query usando o Igual \"=\"\n",
        "Consulta = Cursor.execute(\n",
        "    '''\n",
        "    SELECT * FROM Minha_Tabela\n",
        "    WHERE Idade < 30 \n",
        "    '''\n",
        ").fetchall()\n",
        "\n",
        "print (Consulta)"
      ],
      "metadata": {
        "id": "UbcxbLEHimpS"
      },
      "execution_count": null,
      "outputs": []
    },
    {
      "cell_type": "code",
      "source": [
        "Consulta = Cursor.execute(\n",
        "    '''\n",
        "    SELECT * FROM Minha_Tabela\n",
        "    WHERE Nome <> \"Mateus\"\n",
        "''').fetchall()\n",
        "\n",
        "#loop\n",
        "for linha in Consulta:\n",
        "  print(linha)"
      ],
      "metadata": {
        "id": "xbognkfcjC9n"
      },
      "execution_count": null,
      "outputs": []
    },
    {
      "cell_type": "code",
      "source": [
        "Consulta = Cursor.execute(\n",
        "    '''\n",
        "    SELECT * FROM Minha_Tabela\n",
        "    WHERE idade between 15 and 16\n",
        "    '''\n",
        ").fetchall()\n",
        "print (Consulta)"
      ],
      "metadata": {
        "id": "hJBV2nfMjmpU"
      },
      "execution_count": null,
      "outputs": []
    },
    {
      "cell_type": "markdown",
      "source": [
        "# 6. - LIKE\n",
        "\n",
        "O LIKE operador é usado em uma WHERE cláusula para procurar um padrão especificado em uma coluna.\n",
        "\n",
        "Existem dois curingas frequentemente usados em conjunto com o LIKEoperador\n",
        "\n",
        "\n",
        "1.   O sinal de porcentagem (%) repsenta zero, um ou vários caracteres\n",
        "2.   O sinal de sublinhado(_) representa um único caractere\n"
      ],
      "metadata": {
        "id": "D7VNpEJCkG-l"
      }
    },
    {
      "cell_type": "code",
      "source": [
        "# Query procurando algo que comece\n",
        "Consulta = Cursor.execute(\n",
        "    '''\n",
        "    SELECT * from Minha_Tabela\n",
        "    where nome LIKE 'M%'\n",
        "    '''\n",
        ").fetchall()\n",
        "\n",
        "for linha in Consulta:\n",
        "  print (linha)"
      ],
      "metadata": {
        "id": "9K6e3wCBzupl"
      },
      "execution_count": null,
      "outputs": []
    },
    {
      "cell_type": "code",
      "source": [
        "# Query procurando algo que tenha o padrão\n",
        "Consulta = Cursor.execute(\n",
        "    '''\n",
        "    SELECT * from Minha_Tabela\n",
        "    where nome LIKE '%teus%'\n",
        "    '''\n",
        ").fetchall()\n",
        "\n",
        "for linha in Consulta:\n",
        "  print (linha)"
      ],
      "metadata": {
        "id": "U3G-Xv9C0i_i"
      },
      "execution_count": null,
      "outputs": []
    },
    {
      "cell_type": "markdown",
      "source": [
        "# 7. - IN\n",
        "\n",
        "O IN operador permite especificar vários valores em uma WHEREcláusula\n",
        "\n",
        "O IN operador é um atalho para várias ORcondiçoes"
      ],
      "metadata": {
        "id": "wSE5Cdc72vTM"
      }
    },
    {
      "cell_type": "code",
      "source": [
        "# Query procurando algo com o IN\n",
        "Consulta = Cursor.execute(\n",
        "    ''' select * from Minha_Tabela\n",
        "    where idade in (15,23,25)\n",
        "    '''\n",
        ").fetchall()\n",
        "\n",
        "for linha in Consulta:\n",
        "  print(linha)"
      ],
      "metadata": {
        "id": "PX84ZM18230B"
      },
      "execution_count": null,
      "outputs": []
    },
    {
      "cell_type": "markdown",
      "source": [
        "# 8. - AND, OR, NOT\n",
        "\n",
        "A WHERE cláusula pode ser combinada com os operadores AND, ORN e not\n",
        "Os operadores AND e OR são usados para filtrar registros com base em mais de uma condição\n",
        "\n",
        "1.   O AND operador exibe um registro se todas as condições separadas por AND forem TRUE.\n",
        "2.   o OR operador exibe um registro se alguma das condições separadas por OR for TRUE.\n",
        "3.   O NOT operador exibe um registro se as condiçoes não forem verdadeiras.\n",
        "\n",
        "\n",
        "\n",
        "\n",
        "\n"
      ],
      "metadata": {
        "id": "h7_ejv5t3ofR"
      }
    },
    {
      "cell_type": "code",
      "source": [
        "# AND\n",
        "Consulta = Cursor.execute(\n",
        "    '''\n",
        "    SELECT * FROM Minha_tabela\n",
        "    where idade = 23 AND Nome = \"Gabriel\"\n",
        "    '''\n",
        ").fetchall()\n",
        "print(Consulta)"
      ],
      "metadata": {
        "id": "IlMFOBP-39gC"
      },
      "execution_count": null,
      "outputs": []
    },
    {
      "cell_type": "code",
      "source": [
        "# OR\n",
        "Consulta = Cursor.execute(\n",
        "    '''\n",
        "    select * from Minha_tabela\n",
        "    where idade = 15 or nome = \"Gabriel\"\n",
        "    '''\n",
        ").fetchall()\n",
        "print(Consulta)"
      ],
      "metadata": {
        "id": "jxNMaG_F4Yug"
      },
      "execution_count": null,
      "outputs": []
    },
    {
      "cell_type": "code",
      "source": [
        "# NOT\n",
        "Consulta = Cursor.execute(\n",
        "    '''\n",
        "    select * from Minha_tabela\n",
        "    where not nome = \"Mateus\"\n",
        "    '''\n",
        ").fetchall()\n",
        "print(Consulta)"
      ],
      "metadata": {
        "id": "hUqgfeTD4nKp"
      },
      "execution_count": null,
      "outputs": []
    },
    {
      "cell_type": "code",
      "source": [
        "# COMBINAÇÃO AND OR NOT\n",
        "Consulta = Cursor.execute(\n",
        "    '''\n",
        "    select * from Minha_tabela\n",
        "    where nome = \"Mateus\" and (idade > 12 or Idade < 16) and not idade = 15\n",
        "    ''').fetchall()\n",
        "print(Consulta)"
      ],
      "metadata": {
        "id": "MXTQvttG5Hn_"
      },
      "execution_count": null,
      "outputs": []
    },
    {
      "cell_type": "markdown",
      "source": [
        "# 9. - ORDER BY\n",
        "\n",
        "A ORDER BY é usada para classificar o conjunto de resultados em ordem crescente ou decrescente\n",
        "\n",
        "A Instrução ORDER BY classifica os registros em ordem crescente por padrão.\n",
        "\n",
        "Para classificar os registros em ordem decrescente, use a palavra desc."
      ],
      "metadata": {
        "id": "J4jVu8vg51P4"
      }
    },
    {
      "cell_type": "code",
      "source": [
        "#Ordenar os valores\n",
        "Consulta = Cursor.execute(\n",
        "    '''select * from Minha_tabela\n",
        "    order by nome\n",
        "''').fetchall()\n",
        "\n",
        "for linha in Consulta:\n",
        "  print (linha)"
      ],
      "metadata": {
        "id": "esdrQqiB6DAh"
      },
      "execution_count": null,
      "outputs": []
    },
    {
      "cell_type": "markdown",
      "source": [
        "# 10. - NULL VALUES\n",
        "\n",
        "Um campo com valor NULL é um campo sem valor.\n",
        "\n",
        "Se um campo em uma tabela for opcional, é possível inserir um novo registro ou atualizar um registro sem adicionar um valor a esse campo. Em seguida, o campo será salvo com um valor NULL.\n",
        "\n",
        "Não é possível testar valores NULL com operadores de comparação, como =, < ou <>\n",
        "\n",
        "Teremos que usar os operadores IS NULL e em vez disso IS NOT NULL"
      ],
      "metadata": {
        "id": "2K4HF3lj6biM"
      }
    },
    {
      "cell_type": "code",
      "source": [
        "# Preenchendo valores nulos\n",
        "Cursor.execute('Insert into Minha_tabela values (\"ABC\", null, 30)')\n",
        "Cursor.execute('Insert into Minha_tabela values (\"ABC\", null, null)')"
      ],
      "metadata": {
        "id": "Ekb2is0X6s95"
      },
      "execution_count": null,
      "outputs": []
    }
  ]
}