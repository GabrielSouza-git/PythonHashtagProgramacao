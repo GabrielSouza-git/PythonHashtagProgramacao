{
  "nbformat": 4,
  "nbformat_minor": 0,
  "metadata": {
    "colab": {
      "name": "Python com SQL.ipynb",
      "provenance": [],
      "authorship_tag": "ABX9TyNKfAgyLJSrt8FQT2DRfSXU",
      "include_colab_link": true
    },
    "kernelspec": {
      "name": "python3",
      "display_name": "Python 3"
    },
    "language_info": {
      "name": "python"
    }
  },
  "cells": [
    {
      "cell_type": "markdown",
      "metadata": {
        "id": "view-in-github",
        "colab_type": "text"
      },
      "source": [
        "<a href=\"https://colab.research.google.com/github/GabrielSouza-git/PythonHashtagProgramacao/blob/main/Python_com_SQL.ipynb\" target=\"_parent\"><img src=\"https://colab.research.google.com/assets/colab-badge.svg\" alt=\"Open In Colab\"/></a>"
      ]
    },
    {
      "cell_type": "code",
      "execution_count": null,
      "metadata": {
        "id": "iA9dqD3tagkO"
      },
      "outputs": [],
      "source": [
        "#Biblioteca\n",
        "import sqlite3"
      ]
    },
    {
      "cell_type": "markdown",
      "source": [
        ""
      ],
      "metadata": {
        "id": "ZhhuprmvzFH4"
      }
    },
    {
      "cell_type": "code",
      "source": [
        "# Criar um banco de dados\n",
        "Conexao = sqlite3.connect('Banco_Dados')"
      ],
      "metadata": {
        "id": "-iRt32CkatK5"
      },
      "execution_count": null,
      "outputs": []
    },
    {
      "cell_type": "code",
      "source": [
        "# Apontar para o banco\n",
        "Cursor = Conexao.cursor()\n"
      ],
      "metadata": {
        "id": "DkNXf6eTa5--"
      },
      "execution_count": null,
      "outputs": []
    },
    {
      "cell_type": "markdown",
      "source": [
        "# 1. - CREATE TABLE\n",
        "\n",
        "**CREATE TABLE table_name (column1 datatype, column2 datatype, ...)**\n",
        "\n",
        "\n",
        "\n",
        "Os parâmetros de **coluna** especificam os nomes das colunas da tabela.\n",
        "O parâmetro **datatype** especifica o tipo de dados que a coluna pode conter (por exemplo, varchar, integer, date, etc.)\n"
      ],
      "metadata": {
        "id": "hQQXtKpQbSyd"
      }
    },
    {
      "cell_type": "code",
      "source": [
        "# Criando uma tabela\n",
        "Cursor.execute(\n",
        "    'CREATE TABLE Minha_Tabela (Data text, Nome text, Idade real)'\n",
        ")\n",
        "\n",
        "# Fazer um commit\n",
        "Conexao.commit()"
      ],
      "metadata": {
        "id": "dn_360_obu0k"
      },
      "execution_count": null,
      "outputs": []
    },
    {
      "cell_type": "markdown",
      "source": [
        "# 2. - INSERT INTO\n",
        "A INSERT INTO instrução é usada para inserir novos registros em uma tabela.\n",
        "\n",
        "\n",
        "1.   Especifique os nomes das colunas e os valores a serem inseridos:\n",
        "\n",
        "**INSERT INTO table_name (column1, column2, column3, ...)**\n",
        "\n",
        "\n",
        "\n"
      ],
      "metadata": {
        "id": "I2R4ZL92c-St"
      }
    },
    {
      "cell_type": "code",
      "source": [
        "# Inserindo valores\n",
        "Cursor.execute(' INSERT INTO Minha_Tabela VALUES (\"01/01/2021\", \"Gabriel\", \"23\") ')"
      ],
      "metadata": {
        "colab": {
          "base_uri": "https://localhost:8080/"
        },
        "id": "0H9QHQUSdN5A",
        "outputId": "0255a745-51cb-4a9f-f996-649e58e084ab"
      },
      "execution_count": null,
      "outputs": [
        {
          "output_type": "execute_result",
          "data": {
            "text/plain": [
              "<sqlite3.Cursor at 0x7f26585caab0>"
            ]
          },
          "metadata": {},
          "execution_count": 5
        }
      ]
    },
    {
      "cell_type": "code",
      "source": [
        "Cursor.execute(' INSERT INTO Minha_Tabela VALUES (\"05/01/2021\", \"Toni\", \"26\") ')"
      ],
      "metadata": {
        "colab": {
          "base_uri": "https://localhost:8080/"
        },
        "id": "Fgh9w-nkd9mv",
        "outputId": "3eea6109-35e7-4dfb-8880-7d01a559ec4b"
      },
      "execution_count": null,
      "outputs": [
        {
          "output_type": "execute_result",
          "data": {
            "text/plain": [
              "<sqlite3.Cursor at 0x7f26585caab0>"
            ]
          },
          "metadata": {},
          "execution_count": 6
        }
      ]
    },
    {
      "cell_type": "code",
      "source": [
        "# Importar Numeros aleatorios\n",
        "import random\n",
        "import datetime\n"
      ],
      "metadata": {
        "id": "F1HeCQwxeCP3"
      },
      "execution_count": null,
      "outputs": []
    },
    {
      "cell_type": "code",
      "source": [
        "\n",
        "for loop in range(3):\n",
        "  # Gerando um numero aleatorio\n",
        "  numero = random.randint(10, 20)\n",
        "  troll = random.choice([\"Joao\", \"Joaquim\",\"Ronaldo\",\"Rivaldo\"])\n",
        " \n",
        "\n",
        "  #Inserir informação na minha tabela\n",
        "  Cursor.execute(f' INSERT INTO Minha_Tabela VALUES (\"05/01/2021\", \"{troll}\", {numero})')"
      ],
      "metadata": {
        "id": "Rd52GfzGeG1V"
      },
      "execution_count": null,
      "outputs": []
    },
    {
      "cell_type": "code",
      "source": [
        "\n",
        " "
      ],
      "metadata": {
        "id": "xMrIy25juFa7"
      },
      "execution_count": null,
      "outputs": []
    },
    {
      "cell_type": "markdown",
      "source": [
        "# 3. - SELECT TABLE\n",
        "\n",
        "A SELECT instrução é usada para selecionar dados de um banco de dados.\n",
        "\n",
        "\n",
        "\n",
        "SELECT * FROM table_name (todas as colunas)\n",
        "\n",
        "\n",
        "\n",
        "**SELECT column1, column2, ... from table_name**"
      ],
      "metadata": {
        "id": "Xdej_ZBSffrn"
      }
    },
    {
      "cell_type": "code",
      "source": [
        "# Query de consulta - todas as colunas\n",
        "Consulta = Cursor.execute (' SELECT * FROM Minha_Tabela').fetchall()\n",
        "\n",
        "print(Consulta)"
      ],
      "metadata": {
        "colab": {
          "base_uri": "https://localhost:8080/"
        },
        "id": "g56EqcE1fx3n",
        "outputId": "a8d89cdd-8769-49de-9fa0-4bb5f37d0902"
      },
      "execution_count": null,
      "outputs": [
        {
          "output_type": "stream",
          "name": "stdout",
          "text": [
            "[('01/01/2021', 'Gabriel', 23.0), ('05/01/2021', 'Toni', 26.0), ('05/01/2021', 'Joaquim', 12.0), ('05/01/2021', 'Joao', 13.0), ('05/01/2021', 'Joao', 19.0)]\n"
          ]
        }
      ]
    },
    {
      "cell_type": "code",
      "source": [
        "# Query de consulta - colunas especificas\n",
        "Consulta = Cursor.execute (' SELECT Nome, Idade FROM Minha_Tabela').fetchall()\n",
        "\n",
        "#Loop\n",
        "for Linha in Consulta:\n",
        "  print (Linha)"
      ],
      "metadata": {
        "colab": {
          "base_uri": "https://localhost:8080/"
        },
        "id": "ib_haRUjgWtt",
        "outputId": "791eedc9-ca13-42c1-c37b-9acbea54f898"
      },
      "execution_count": null,
      "outputs": [
        {
          "output_type": "stream",
          "name": "stdout",
          "text": [
            "('Gabriel', 23.0)\n",
            "('Toni', 26.0)\n",
            "('Joaquim', 12.0)\n",
            "('Joao', 13.0)\n",
            "('Joao', 19.0)\n",
            "(None, 30.0)\n",
            "(None, None)\n",
            "('Joao', 15.0)\n",
            "('Joaquim', 14.0)\n",
            "('Rivaldo', 12.0)\n"
          ]
        }
      ]
    },
    {
      "cell_type": "markdown",
      "source": [
        "# 4. - WHERE\n",
        "\n",
        "A WHERE cláusula é usada para filtrar registros\n",
        "\n",
        "**SELECT column FROM table_name WHERE condition**;\n",
        "\n",
        "Operadores:\n",
        "\n",
        "\n",
        "1.   <> Diferente\n",
        "2.   BETWEEN Entre --- begin_expression AND end_expression\n",
        "3.   LIKE Procurar por padrão\n",
        "4.   IN Para especificar vários valores possíveis para uma coluna\n",
        "\n"
      ],
      "metadata": {
        "id": "6CfmDCAThWO0"
      }
    },
    {
      "cell_type": "code",
      "source": [
        "# Query usando o Igual \"=\"\n",
        "Consulta = Cursor.execute(\n",
        "    '''\n",
        "    SELECT * FROM Minha_Tabela\n",
        "    WHERE Nome = 'Mateus'    \n",
        "    '''\n",
        ").fetchall()\n",
        "\n",
        "for linha in Consulta:\n",
        "  print (linha)\n"
      ],
      "metadata": {
        "id": "nNWZ8NGIhhwv"
      },
      "execution_count": null,
      "outputs": []
    },
    {
      "cell_type": "code",
      "source": [
        "# Query usando o Igual \"=\"\n",
        "Consulta = Cursor.execute(\n",
        "    '''\n",
        "    SELECT * FROM Minha_Tabela\n",
        "    WHERE Idade < 30 \n",
        "    '''\n",
        ").fetchall()\n",
        "\n",
        "print (Consulta)"
      ],
      "metadata": {
        "colab": {
          "base_uri": "https://localhost:8080/"
        },
        "id": "UbcxbLEHimpS",
        "outputId": "73b78c6c-0c77-4b7e-d8c9-892b0a5929e8"
      },
      "execution_count": null,
      "outputs": [
        {
          "output_type": "stream",
          "name": "stdout",
          "text": [
            "[('01/01/2021', 'Gabriel', 23.0), ('05/01/2021', 'Toni', 26.0), ('05/01/2021', 'Joaquim', 12.0), ('05/01/2021', 'Joao', 13.0), ('05/01/2021', 'Joao', 19.0)]\n"
          ]
        }
      ]
    },
    {
      "cell_type": "code",
      "source": [
        "Consulta = Cursor.execute(\n",
        "    '''\n",
        "    SELECT * FROM Minha_Tabela\n",
        "    WHERE Nome <> \"Mateus\"\n",
        "''').fetchall()\n",
        "\n",
        "#loop\n",
        "for linha in Consulta:\n",
        "  print(linha)"
      ],
      "metadata": {
        "colab": {
          "base_uri": "https://localhost:8080/"
        },
        "id": "xbognkfcjC9n",
        "outputId": "839647ea-8556-478d-ca67-04daa1855d58"
      },
      "execution_count": null,
      "outputs": [
        {
          "output_type": "stream",
          "name": "stdout",
          "text": [
            "('01/01/2021', 'Gabriel', 23.0)\n",
            "('05/01/2021', 'Toni', 26.0)\n",
            "('05/01/2021', 'Joaquim', 12.0)\n",
            "('05/01/2021', 'Joao', 13.0)\n",
            "('05/01/2021', 'Joao', 19.0)\n"
          ]
        }
      ]
    },
    {
      "cell_type": "code",
      "source": [
        "Consulta = Cursor.execute(\n",
        "    '''\n",
        "    SELECT * FROM Minha_Tabela\n",
        "    WHERE idade between 15 and 16\n",
        "    '''\n",
        ").fetchall()\n",
        "print (Consulta)"
      ],
      "metadata": {
        "colab": {
          "base_uri": "https://localhost:8080/"
        },
        "id": "hJBV2nfMjmpU",
        "outputId": "681a80f5-9654-4975-b2d1-5a75c688573e"
      },
      "execution_count": null,
      "outputs": [
        {
          "output_type": "stream",
          "name": "stdout",
          "text": [
            "[]\n"
          ]
        }
      ]
    },
    {
      "cell_type": "markdown",
      "source": [
        "# 6. - LIKE\n",
        "\n",
        "O LIKE operador é usado em uma WHERE cláusula para procurar um padrão especificado em uma coluna.\n",
        "\n",
        "Existem dois curingas frequentemente usados em conjunto com o LIKEoperador\n",
        "\n",
        "\n",
        "1.   O sinal de porcentagem (%) repsenta zero, um ou vários caracteres\n",
        "2.   O sinal de sublinhado(_) representa um único caractere\n"
      ],
      "metadata": {
        "id": "D7VNpEJCkG-l"
      }
    },
    {
      "cell_type": "code",
      "source": [
        "# Query procurando algo que comece\n",
        "Consulta = Cursor.execute(\n",
        "    '''\n",
        "    SELECT * from Minha_Tabela\n",
        "    where nome LIKE 'M%'\n",
        "    '''\n",
        ").fetchall()\n",
        "\n",
        "for linha in Consulta:\n",
        "  print (linha)"
      ],
      "metadata": {
        "id": "9K6e3wCBzupl"
      },
      "execution_count": null,
      "outputs": []
    },
    {
      "cell_type": "code",
      "source": [
        "# Query procurando algo que tenha o padrão\n",
        "Consulta = Cursor.execute(\n",
        "    '''\n",
        "    SELECT * from Minha_Tabela\n",
        "    where nome LIKE '%teus%'\n",
        "    '''\n",
        ").fetchall()\n",
        "\n",
        "for linha in Consulta:\n",
        "  print (linha)"
      ],
      "metadata": {
        "id": "U3G-Xv9C0i_i"
      },
      "execution_count": null,
      "outputs": []
    },
    {
      "cell_type": "markdown",
      "source": [
        "# 7. - IN\n",
        "\n",
        "O IN operador permite especificar vários valores em uma WHEREcláusula\n",
        "\n",
        "O IN operador é um atalho para várias ORcondiçoes"
      ],
      "metadata": {
        "id": "wSE5Cdc72vTM"
      }
    },
    {
      "cell_type": "code",
      "source": [
        "# Query procurando algo com o IN\n",
        "Consulta = Cursor.execute(\n",
        "    ''' select * from Minha_Tabela\n",
        "    where idade in (15,23,25)\n",
        "    '''\n",
        ").fetchall()\n",
        "\n",
        "for linha in Consulta:\n",
        "  print(linha)"
      ],
      "metadata": {
        "colab": {
          "base_uri": "https://localhost:8080/"
        },
        "id": "PX84ZM18230B",
        "outputId": "0b661050-9853-4b1c-827c-53c33069272c"
      },
      "execution_count": null,
      "outputs": [
        {
          "output_type": "stream",
          "name": "stdout",
          "text": [
            "('01/01/2021', 'Gabriel', 23.0)\n"
          ]
        }
      ]
    },
    {
      "cell_type": "markdown",
      "source": [
        "# 8. - AND, OR, NOT\n",
        "\n",
        "A WHERE cláusula pode ser combinada com os operadores AND, ORN e not\n",
        "Os operadores AND e OR são usados para filtrar registros com base em mais de uma condição\n",
        "\n",
        "1.   O AND operador exibe um registro se todas as condições separadas por AND forem TRUE.\n",
        "2.   o OR operador exibe um registro se alguma das condições separadas por OR for TRUE.\n",
        "3.   O NOT operador exibe um registro se as condiçoes não forem verdadeiras.\n",
        "\n",
        "\n",
        "\n",
        "\n",
        "\n"
      ],
      "metadata": {
        "id": "h7_ejv5t3ofR"
      }
    },
    {
      "cell_type": "code",
      "source": [
        "# AND\n",
        "Consulta = Cursor.execute(\n",
        "    '''\n",
        "    SELECT * FROM Minha_tabela\n",
        "    where idade = 23 AND Nome = \"Gabriel\"\n",
        "    '''\n",
        ").fetchall()\n",
        "print(Consulta)"
      ],
      "metadata": {
        "colab": {
          "base_uri": "https://localhost:8080/"
        },
        "id": "IlMFOBP-39gC",
        "outputId": "b39b2388-a0a3-4ac3-9ce4-06a2842bc536"
      },
      "execution_count": null,
      "outputs": [
        {
          "output_type": "stream",
          "name": "stdout",
          "text": [
            "[('01/01/2021', 'Gabriel', 23.0)]\n"
          ]
        }
      ]
    },
    {
      "cell_type": "code",
      "source": [
        "# OR\n",
        "Consulta = Cursor.execute(\n",
        "    '''\n",
        "    select * from Minha_tabela\n",
        "    where idade = 15 or nome = \"Gabriel\"\n",
        "    '''\n",
        ").fetchall()\n",
        "print(Consulta)"
      ],
      "metadata": {
        "colab": {
          "base_uri": "https://localhost:8080/"
        },
        "id": "jxNMaG_F4Yug",
        "outputId": "1ec8f51a-22eb-4dba-ad86-68ac595b17ce"
      },
      "execution_count": null,
      "outputs": [
        {
          "output_type": "stream",
          "name": "stdout",
          "text": [
            "[('01/01/2021', 'Gabriel', 23.0)]\n"
          ]
        }
      ]
    },
    {
      "cell_type": "code",
      "source": [
        "# NOT\n",
        "Consulta = Cursor.execute(\n",
        "    '''\n",
        "    select * from Minha_tabela\n",
        "    where not nome = \"Mateus\"\n",
        "    '''\n",
        ").fetchall()\n",
        "print(Consulta)"
      ],
      "metadata": {
        "colab": {
          "base_uri": "https://localhost:8080/"
        },
        "id": "hUqgfeTD4nKp",
        "outputId": "06bd16c2-77c9-4665-88d3-169ed87b7215"
      },
      "execution_count": null,
      "outputs": [
        {
          "output_type": "stream",
          "name": "stdout",
          "text": [
            "[('01/01/2021', 'Gabriel', 23.0), ('05/01/2021', 'Toni', 26.0), ('05/01/2021', 'Joaquim', 12.0), ('05/01/2021', 'Joao', 13.0), ('05/01/2021', 'Joao', 19.0)]\n"
          ]
        }
      ]
    },
    {
      "cell_type": "code",
      "source": [
        "# COMBINAÇÃO AND OR NOT\n",
        "Consulta = Cursor.execute(\n",
        "    '''\n",
        "    select * from Minha_tabela\n",
        "    where nome = \"Mateus\" and (idade > 12 or Idade < 16) and not idade = 15\n",
        "    ''').fetchall()\n",
        "print(Consulta)"
      ],
      "metadata": {
        "colab": {
          "base_uri": "https://localhost:8080/"
        },
        "id": "MXTQvttG5Hn_",
        "outputId": "0973313c-ab89-40ce-d05b-b722a4ec631d"
      },
      "execution_count": null,
      "outputs": [
        {
          "output_type": "stream",
          "name": "stdout",
          "text": [
            "[]\n"
          ]
        }
      ]
    },
    {
      "cell_type": "markdown",
      "source": [
        "# 9. - ORDER BY\n",
        "\n",
        "A ORDER BY é usada para classificar o conjunto de resultados em ordem crescente ou decrescente\n",
        "\n",
        "A Instrução ORDER BY classifica os registros em ordem crescente por padrão.\n",
        "\n",
        "Para classificar os registros em ordem decrescente, use a palavra desc."
      ],
      "metadata": {
        "id": "J4jVu8vg51P4"
      }
    },
    {
      "cell_type": "code",
      "source": [
        "#Ordenar os valores\n",
        "Consulta = Cursor.execute(\n",
        "    '''select * from Minha_tabela\n",
        "    order by nome\n",
        "''').fetchall()\n",
        "\n",
        "for linha in Consulta:\n",
        "  print (linha)"
      ],
      "metadata": {
        "colab": {
          "base_uri": "https://localhost:8080/"
        },
        "id": "esdrQqiB6DAh",
        "outputId": "96c6f610-6aeb-4a6d-b90c-ef9570da19c2"
      },
      "execution_count": null,
      "outputs": [
        {
          "output_type": "stream",
          "name": "stdout",
          "text": [
            "('01/01/2021', 'Gabriel', 23.0)\n",
            "('05/01/2021', 'Joao', 13.0)\n",
            "('05/01/2021', 'Joao', 19.0)\n",
            "('05/01/2021', 'Joaquim', 12.0)\n",
            "('05/01/2021', 'Toni', 26.0)\n"
          ]
        }
      ]
    },
    {
      "cell_type": "markdown",
      "source": [
        "# 10. - NULL VALUES\n",
        "\n",
        "Um campo com valor NULL é um campo sem valor.\n",
        "\n",
        "Se um campo em uma tabela for opcional, é possível inserir um novo registro ou atualizar um registro sem adicionar um valor a esse campo. Em seguida, o campo será salvo com um valor NULL.\n",
        "\n",
        "Não é possível testar valores NULL com operadores de comparação, como =, < ou <>\n",
        "\n",
        "Teremos que usar os operadores IS NULL e em vez disso IS NOT NULL"
      ],
      "metadata": {
        "id": "2K4HF3lj6biM"
      }
    },
    {
      "cell_type": "code",
      "source": [
        "# Preenchendo valores nulos\n",
        "Cursor.execute('Insert into Minha_tabela values (\"ABC\", null, 30)')\n",
        "Cursor.execute('Insert into Minha_tabela values (\"ABC\", null, null)')"
      ],
      "metadata": {
        "colab": {
          "base_uri": "https://localhost:8080/"
        },
        "id": "Ekb2is0X6s95",
        "outputId": "b3c1dabe-1fd4-4ed1-aa87-c9e3db2b8cda"
      },
      "execution_count": null,
      "outputs": [
        {
          "output_type": "execute_result",
          "data": {
            "text/plain": [
              "<sqlite3.Cursor at 0x7f26585caab0>"
            ]
          },
          "metadata": {},
          "execution_count": 24
        }
      ]
    }
  ]
}